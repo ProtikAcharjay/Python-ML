{
 "cells": [
  {
   "cell_type": "code",
   "execution_count": null,
   "id": "bbbb0b55",
   "metadata": {},
   "outputs": [],
   "source": [
    "x_test_prepared= my_pipeline.transform(x_test)\n",
    "final_predictions = model.predict(x_test_prepared)\n",
    "final_mse= mean_squared_error(y_test, final_predictions)\n",
    "final_rmse= np.sqrt(final_mse)"
   ]
  }
 ],
 "metadata": {
  "kernelspec": {
   "display_name": "Python 3",
   "language": "python",
   "name": "python3"
  },
  "language_info": {
   "codemirror_mode": {
    "name": "ipython",
    "version": 3
   },
   "file_extension": ".py",
   "mimetype": "text/x-python",
   "name": "python",
   "nbconvert_exporter": "python",
   "pygments_lexer": "ipython3",
   "version": "3.9.1"
  }
 },
 "nbformat": 4,
 "nbformat_minor": 5
}
